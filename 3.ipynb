{
 "cells": [
  {
   "cell_type": "markdown",
   "metadata": {},
   "source": [
    "# Input data"
   ]
  },
  {
   "cell_type": "code",
   "execution_count": 26,
   "metadata": {},
   "outputs": [
    {
     "data": {
      "text/plain": [
       "Text(0, 0.5, 'Second feature')"
      ]
     },
     "execution_count": 26,
     "metadata": {},
     "output_type": "execute_result"
    },
    {
     "data": {
      "image/png": "[encoded data removed]",
      "text/plain": [
       "<Figure size 360x360 with 1 Axes>"
      ]
     },
     "metadata": {
      "needs_background": "light"
     },
     "output_type": "display_data"
    }
   ],
   "source": [
    "from sklearn.datasets.samples_generator import make_blobs\n",
    "import matplotlib.pyplot as plt\n",
    "import numpy as np\n",
    "\n",
    "X,y = make_blobs(random_state = 42)\n",
    "\n",
    "plt.figure(figsize=(5,5))\n",
    "plt.title(\"Input data\")\n",
    "plt.scatter(X[:,0], X[:,1], c = y)\n",
    "plt.xlabel(\"First feature\")\n",
    "plt.ylabel(\"Second feature\")"
   ]
  },
  {
   "cell_type": "markdown",
   "metadata": {},
   "source": [
    "# Train and test separation"
   ]
  },
  {
   "cell_type": "code",
   "execution_count": 27,
   "metadata": {},
   "outputs": [
    {
     "name": "stdout",
     "output_type": "stream",
     "text": [
      "Shape of train data: (75, 2)\n",
      "Shape of test data: (25, 2)\n"
     ]
    }
   ],
   "source": [
    "from sklearn.model_selection import train_test_split\n",
    "\n",
    "X_train, X_test, y_train, y_test = train_test_split(X, y, random_state=0)\n",
    "\n",
    "print(\"Shape of train data: {}\".format(X_train.shape))\n",
    "print(\"Shape of test data: {}\".format(X_test.shape))"
   ]
  },
  {
   "cell_type": "markdown",
   "metadata": {},
   "source": [
    "# Neural network training"
   ]
  },
  {
   "cell_type": "code",
   "execution_count": 93,
   "metadata": {},
   "outputs": [
    {
     "name": "stdout",
     "output_type": "stream",
     "text": [
      "[-0.30324303 -0.76922161 -0.34113881]\n"
     ]
    }
   ],
   "source": [
    "# Архитектура 2-3-3\n",
    "\n",
    "# Начальные веса после входного слоя\n",
    "w1 = np.array([[-0.5, 0.2, 0.4], \n",
    "               [-0.3, -0.6, 0.8]])\n",
    "\n",
    "# Начальные веса перед выходным слоем\n",
    "w2 = np.array([[-0.4, 0.6, -0.4],\n",
    "               [-0.5, 0.7, -0.3],\n",
    "               [-0.3, 0.5, -0.2]])\n",
    "\n",
    "# Функция активации\n",
    "def activation_function(data):\n",
    "    return 1 / (1 + np.exp(-data))\n",
    "\n",
    "# Расчет ответа сети\n",
    "def forward_propagation(input_data):\n",
    "    \n",
    "    # Between input and hidden layer\n",
    "    net_on_hidden_layer = np.dot(input_data, w1)\n",
    "    y_on_hidden_layer = activation_function(net_on_hidden_layer)\n",
    "    \n",
    "    # Between hidden and output layer\n",
    "    net_on_output_layer = np.dot(y_on_hidden_layer, w2)\n",
    "    y_on_output_layer = activation_function(net_on_output_layer)\n",
    "\n",
    "    return y_on_output_layer\n",
    "\n",
    "# Корректировка весов\n",
    "def back_propagation(y_predicted, y_true):\n",
    "    \n",
    "    if y == 0: y_true_output = [1, 0, 0] \n",
    "    elif y == 1: y_true_output = [0, 1, 0] \n",
    "    else: y_true_output = [0, 0, 1] \n",
    "    error = y_true - y_predicted\n",
    "    \n",
    "    return error\n",
    "\n",
    "y_pred = forward_propagation(X_train[0])\n",
    "error = back_propagation(y_pred, y[0])\n",
    "print(error)"
   ]
  },
  {
   "cell_type": "code",
   "execution_count": 87,
   "metadata": {},
   "outputs": [
    {
     "data": {
      "text/html": [
       "<div>\n",
       "<style scoped>\n",
       "    .dataframe tbody tr th:only-of-type {\n",
       "        vertical-align: middle;\n",
       "    }\n",
       "\n",
       "    .dataframe tbody tr th {\n",
       "        vertical-align: top;\n",
       "    }\n",
       "\n",
       "    .dataframe thead th {\n",
       "        text-align: right;\n",
       "    }\n",
       "</style>\n",
       "<table border=\"1\" class=\"dataframe\">\n",
       "  <thead>\n",
       "    <tr style=\"text-align: right;\">\n",
       "      <th></th>\n",
       "      <th>1</th>\n",
       "      <th>0</th>\n",
       "      <th>0</th>\n",
       "      <th>2</th>\n",
       "      <th>2</th>\n",
       "      <th>1</th>\n",
       "      <th>2</th>\n",
       "      <th>0</th>\n",
       "      <th>2</th>\n",
       "      <th>0</th>\n",
       "      <th>...</th>\n",
       "      <th>2</th>\n",
       "      <th>2</th>\n",
       "      <th>0</th>\n",
       "      <th>2</th>\n",
       "      <th>1</th>\n",
       "      <th>0</th>\n",
       "      <th>2</th>\n",
       "      <th>1</th>\n",
       "      <th>2</th>\n",
       "      <th>1</th>\n",
       "    </tr>\n",
       "  </thead>\n",
       "  <tbody>\n",
       "    <tr>\n",
       "      <th>y_test</th>\n",
       "      <td>1</td>\n",
       "      <td>0</td>\n",
       "      <td>0</td>\n",
       "      <td>2</td>\n",
       "      <td>2</td>\n",
       "      <td>1</td>\n",
       "      <td>2</td>\n",
       "      <td>0</td>\n",
       "      <td>2</td>\n",
       "      <td>0</td>\n",
       "      <td>...</td>\n",
       "      <td>2</td>\n",
       "      <td>2</td>\n",
       "      <td>0</td>\n",
       "      <td>2</td>\n",
       "      <td>1</td>\n",
       "      <td>0</td>\n",
       "      <td>2</td>\n",
       "      <td>1</td>\n",
       "      <td>2</td>\n",
       "      <td>1</td>\n",
       "    </tr>\n",
       "    <tr>\n",
       "      <th>y_pred</th>\n",
       "      <td>1</td>\n",
       "      <td>0</td>\n",
       "      <td>0</td>\n",
       "      <td>2</td>\n",
       "      <td>2</td>\n",
       "      <td>1</td>\n",
       "      <td>2</td>\n",
       "      <td>0</td>\n",
       "      <td>2</td>\n",
       "      <td>0</td>\n",
       "      <td>...</td>\n",
       "      <td>2</td>\n",
       "      <td>2</td>\n",
       "      <td>0</td>\n",
       "      <td>2</td>\n",
       "      <td>1</td>\n",
       "      <td>0</td>\n",
       "      <td>2</td>\n",
       "      <td>1</td>\n",
       "      <td>2</td>\n",
       "      <td>1</td>\n",
       "    </tr>\n",
       "  </tbody>\n",
       "</table>\n",
       "<p>2 rows × 25 columns</p>\n",
       "</div>"
      ],
      "text/plain": [
       "        1  0  0  2  2  1  2  0  2  0  ...  2  2  0  2  1  0  2  1  2  1\n",
       "y_test  1  0  0  2  2  1  2  0  2  0  ...  2  2  0  2  1  0  2  1  2  1\n",
       "y_pred  1  0  0  2  2  1  2  0  2  0  ...  2  2  0  2  1  0  2  1  2  1\n",
       "\n",
       "[2 rows x 25 columns]"
      ]
     },
     "metadata": {},
     "output_type": "display_data"
    }
   ],
   "source": [
    "import pandas as pd\n",
    "y_pred = y_test\n",
    "\n",
    "np_resuts = np.array([y_test, y_pred])\n",
    "data_pd = pd.DataFrame(np_resuts, index=['y_test', 'y_pred'], columns = y_pred)\n",
    "display(data_pd)"
   ]
  },
  {
   "cell_type": "code",
   "execution_count": 86,
   "metadata": {},
   "outputs": [
    {
     "data": {
      "text/plain": [
       "[<matplotlib.lines.Line2D at 0x21d38e0a208>]"
      ]
     },
     "execution_count": 86,
     "metadata": {},
     "output_type": "execute_result"
    },
    {
     "data": {
      "image/png": "[encoded data removed]",
      "text/plain": [
       "<Figure size 720x360 with 1 Axes>"
      ]
     },
     "metadata": {
      "needs_background": "light"
     },
     "output_type": "display_data"
    }
   ],
   "source": [
    "x = []\n",
    "y = []\n",
    "for i in range(-10,10,1):\n",
    "    x.append(i)\n",
    "    y.append(activation_function(i))\n",
    "\n",
    "plt.figure(figsize=(10,5))\n",
    "plt.plot(x,y)"
   ]
  },
  {
   "cell_type": "code",
   "execution_count": null,
   "metadata": {},
   "outputs": [],
   "source": []
  },
  {
   "cell_type": "code",
   "execution_count": null,
   "metadata": {},
   "outputs": [],
   "source": []
  },
  {
   "cell_type": "code",
   "execution_count": null,
   "metadata": {},
   "outputs": [],
   "source": []
  },
  {
   "cell_type": "code",
   "execution_count": null,
   "metadata": {},
   "outputs": [],
   "source": []
  }
 ],
 "metadata": {
  "kernelspec": {
   "display_name": "Python 3",
   "language": "python",
   "name": "python3"
  },
  "language_info": {
   "codemirror_mode": {
    "name": "ipython",
    "version": 3
   },
   "file_extension": ".py",
   "mimetype": "text/x-python",
   "name": "python",
   "nbconvert_exporter": "python",
   "pygments_lexer": "ipython3",
   "version": "3.7.6"
  }
 },
 "nbformat": 4,
 "nbformat_minor": 4
}
